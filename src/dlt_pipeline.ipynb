{
 "cells": [
  {
   "cell_type": "code",
   "execution_count": null,
   "metadata": {},
   "outputs": [],
   "source": [
    "import dlt\n",
    "from pyspark.sql.functions import *"
   ]
  },
  {
   "cell_type": "code",
   "execution_count": null,
   "metadata": {},
   "outputs": [],
   "source": [
    "import os\n",
    "\n",
    "os.environ[\"UNITY_CATALOG_VOLUME_PATH\"] = \"/Volumes/shared/a9o/raw-files/\"\n",
    "os.environ[\"DATASET_DOWNLOAD_URL\"] = \"https://health.data.ny.gov/api/views/jxy9-yhdk/rows.csv\"\n",
    "os.environ[\"DATASET_DOWNLOAD_FILENAME\"] = \"rows.csv\"\n",
    "\n",
    "dbutils.fs.cp(f\"{os.environ.get('DATASET_DOWNLOAD_URL')}\", f\"{os.environ.get('UNITY_CATALOG_VOLUME_PATH')}{os.environ.get('DATASET_DOWNLOAD_FILENAME')}\")"
   ]
  },
  {
   "cell_type": "code",
   "execution_count": null,
   "metadata": {},
   "outputs": [],
   "source": [
    "@dlt.table(\n",
    "  comment=\"Popular baby first names in New York. This data was ingested from the New York State Departement of Health.\"\n",
    ")\n",
    "def baby_names_raw():\n",
    "  df = spark.read.csv(f\"{os.environ.get('UNITY_CATALOG_VOLUME_PATH')}{os.environ.get('DATASET_DOWNLOAD_FILENAME')}\", header=True, inferSchema=True)\n",
    "  df_renamed_column = df.withColumnRenamed(\"First Name\", \"First_Name\")\n",
    "  return df_renamed_column"
   ]
  },
  {
   "cell_type": "code",
   "execution_count": null,
   "metadata": {},
   "outputs": [],
   "source": [
    "@dlt.table(\n",
    "  comment=\"New York popular baby first name data cleaned and prepared for analysis.\"\n",
    ")\n",
    "@dlt.expect(\"valid_first_name\", \"First_Name IS NOT NULL\")\n",
    "@dlt.expect_or_fail(\"valid_count\", \"Count > 0\")\n",
    "def baby_names_prepared():\n",
    "  return (\n",
    "    dlt.read(\"baby_names_raw\")\n",
    "      .withColumnRenamed(\"Year\", \"Year_Of_Birth\")\n",
    "      .select(\"Year_Of_Birth\", \"First_Name\", \"Count\")\n",
    "  )"
   ]
  },
  {
   "cell_type": "code",
   "execution_count": null,
   "metadata": {},
   "outputs": [],
   "source": [
    "@dlt.table(\n",
    "  comment=\"A table summarizing counts of the top baby names for New York for 2021.\"\n",
    ")\n",
    "def top_baby_names_2021():\n",
    "  return (\n",
    "    dlt.read(\"baby_names_prepared\")\n",
    "      .filter(expr(\"Year_Of_Birth == 2021\"))\n",
    "      .groupBy(\"First_Name\")\n",
    "      .agg(sum(\"Count\").alias(\"Total_Count\"))\n",
    "      .sort(desc(\"Total_Count\"))\n",
    "      .limit(10)\n",
    "  )"
   ]
  }
 ],
 "metadata": {
  "language_info": {
   "name": "python"
  }
 },
 "nbformat": 4,
 "nbformat_minor": 2
}
